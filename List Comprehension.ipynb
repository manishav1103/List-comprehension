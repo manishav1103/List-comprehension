{
 "cells": [
  {
   "cell_type": "code",
   "execution_count": 4,
   "id": "5f318bca",
   "metadata": {},
   "outputs": [
    {
     "name": "stdout",
     "output_type": "stream",
     "text": [
      "[0, 2, 4, 6, 8, 10, 12, 14, 16, 18, 20, 22, 24, 26, 28, 30, 32, 34, 36, 38, 40, 42, 44, 46, 48, 50, 52, 54, 56, 58, 60, 62, 64, 66, 68, 70, 72, 74, 76, 78, 80, 82, 84, 86, 88, 90, 92, 94, 96, 98, 100]\n"
     ]
    }
   ],
   "source": [
    "# List comprehension\n",
    "\n",
    "#Q1 using list comprehension store all the even numbers from 1 to 100 in a list\n",
    "\n",
    "listl=[i for i in range (101) if(i%2==0)]\n",
    "print (listl)"
   ]
  },
  {
   "cell_type": "code",
   "execution_count": 4,
   "id": "480360be",
   "metadata": {},
   "outputs": [
    {
     "name": "stdout",
     "output_type": "stream",
     "text": [
      "[1904, 1908, 1912, 1916, 1920, 1924, 1928, 1932, 1936, 1940, 1944, 1948, 1952, 1956, 1960, 1964, 1968, 1972, 1976, 1980, 1984, 1988, 1992, 1996, 2000, 2004, 2008, 2012, 2016, 2020, 2024, 2028]\n"
     ]
    }
   ],
   "source": [
    "#Q2 using list comprehension store all Leap year from 1900 to 2030 in a list\n",
    "\n",
    "leap_year=[i for i in range(1900,2030) if i%400==0 or (i%4==0 and i%100!=0)]\n",
    "print(leap_year)      "
   ]
  },
  {
   "cell_type": "code",
   "execution_count": 12,
   "id": "1a46e208",
   "metadata": {},
   "outputs": [
    {
     "name": "stdout",
     "output_type": "stream",
     "text": [
      "[1, 8, 27, 64, 125, 216, 343, 512, 729, 1000, 1331, 1728, 2197, 2744, 3375, 4096, 4913, 5832, 6859, 8000]\n"
     ]
    }
   ],
   "source": [
    "#Q3 using list comprehension, store cubes of natural number from 1-20 in a list\n",
    "\n",
    "cube=[i**3 for i in range(1,21)]\n",
    "print (cube)"
   ]
  },
  {
   "cell_type": "code",
   "execution_count": 13,
   "id": "69b60c39",
   "metadata": {},
   "outputs": [
    {
     "name": "stdout",
     "output_type": "stream",
     "text": [
      "[('book2', 2012), ('book4', 2015), ('book6', 2018)]\n"
     ]
    }
   ],
   "source": [
    "#Q4 \n",
    "#Given a list lib, using list comprehension store all the books that was published after 2010.\n",
    "\n",
    "library = [('book1',2002),('book2',2012),('book3',2007),('book4',2015),('book5',2005),('book6',2018)]\n",
    "lib=[library[s] for s in range(len(library)) if library[s][1]>=2010]\n",
    "print(lib)\n"
   ]
  },
  {
   "cell_type": "code",
   "execution_count": 16,
   "id": "cf61274f",
   "metadata": {},
   "outputs": [
    {
     "name": "stdout",
     "output_type": "stream",
     "text": [
      "['not', 'no', 'never', 'none', 'nor']\n"
     ]
    }
   ],
   "source": [
    "#Q5\n",
    "#Given a list grammar, using list comprehension, filter all the negative words that starts with 'n\n",
    "\n",
    "grammar = ['is','not','am','are','do','did','no','will','never','shall','none','was','nor']\n",
    "\n",
    "words=[i for i in grammar if'n'in i]\n",
    "print(words)"
   ]
  },
  {
   "cell_type": "code",
   "execution_count": 19,
   "id": "a7981526",
   "metadata": {},
   "outputs": [
    {
     "name": "stdout",
     "output_type": "stream",
     "text": [
      "[(1, 'a'), (1, 'b'), (1, 'c'), (2, 'a'), (2, 'b'), (2, 'c'), (3, 'a'), (3, 'b'), (3, 'c')]\n"
     ]
    }
   ],
   "source": [
    "#Q6\n",
    "#Given two list x and, using list comprehension take the cross product of x and y-:\n",
    "\n",
    "x= [1,2,3]\n",
    "y=['a','b','c']\n",
    "\n",
    "new=[(x[a],y[b])for a in range(len(x)) for b in range(len(y))]\n",
    "print(new)"
   ]
  },
  {
   "cell_type": "code",
   "execution_count": 10,
   "id": "6138f828",
   "metadata": {},
   "outputs": [
    {
     "name": "stdout",
     "output_type": "stream",
     "text": [
      "*\n",
      "**\n",
      "***\n",
      "****\n"
     ]
    }
   ],
   "source": [
    "#Q7 start parttern 1\n",
    "\n",
    "for i in range(1,5):\n",
    "    for j in range(1,i+1):\n",
    "        print('*',end='')\n",
    "    print('')"
   ]
  },
  {
   "cell_type": "code",
   "execution_count": 15,
   "id": "356927f5",
   "metadata": {},
   "outputs": [
    {
     "name": "stdout",
     "output_type": "stream",
     "text": [
      "****\n",
      "***\n",
      "**\n",
      "*\n"
     ]
    }
   ],
   "source": [
    "#Q8 start parttern 2\n",
    "\n",
    "for i in range(4,0,-1):\n",
    "    for j in range(i):\n",
    "        print('*',end='')\n",
    "    print('')"
   ]
  },
  {
   "cell_type": "code",
   "execution_count": 6,
   "id": "6446fc50",
   "metadata": {},
   "outputs": [
    {
     "name": "stdout",
     "output_type": "stream",
     "text": [
      "*\n",
      "**\n",
      "***\n",
      "****\n",
      "***\n",
      "**\n",
      "*\n"
     ]
    }
   ],
   "source": [
    "#Q9 start parttern 3\n",
    "for i in range(1,4):\n",
    "    for j in range(1,i+1):\n",
    "        print('*',end='')\n",
    "    print('')\n",
    "for i in range(4,0,-1):\n",
    "    for j in range(i):\n",
    "        print('*',end='')\n",
    "    print('')   "
   ]
  },
  {
   "cell_type": "code",
   "execution_count": null,
   "id": "4ed7b15a",
   "metadata": {},
   "outputs": [],
   "source": [
    "  "
   ]
  }
 ],
 "metadata": {
  "kernelspec": {
   "display_name": "Python 3 (ipykernel)",
   "language": "python",
   "name": "python3"
  },
  "language_info": {
   "codemirror_mode": {
    "name": "ipython",
    "version": 3
   },
   "file_extension": ".py",
   "mimetype": "text/x-python",
   "name": "python",
   "nbconvert_exporter": "python",
   "pygments_lexer": "ipython3",
   "version": "3.9.13"
  }
 },
 "nbformat": 4,
 "nbformat_minor": 5
}
